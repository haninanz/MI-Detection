{
 "cells": [
  {
   "cell_type": "code",
   "execution_count": 1,
   "metadata": {},
   "outputs": [],
   "source": [
    "import os\n",
    "import mne\n",
    "import numpy as np\n",
    "import pandas as pd\n",
    "import tensorflow as tf\n",
    "import matplotlib.pyplot as plt\n",
    "from sklearn.model_selection import train_test_split\n",
    "from sklearn.metrics import accuracy_score, precision_score, recall_score"
   ]
  },
  {
   "cell_type": "code",
   "execution_count": 2,
   "metadata": {},
   "outputs": [
    {
     "name": "stdout",
     "output_type": "stream",
     "text": [
      "Reading C:\\Users\\hanin\\Documents\\Kuliah\\Semester 7\\Tugas Akhir\\Preprocessed Data MI\\Epoch\\SubjectA-160405-epo.fif ...\n",
      "    Found the data of interest:\n",
      "        t =       0.00 ...     850.00 ms\n",
      "        0 CTF compensation matrices available\n",
      "Not setting metadata\n",
      "Not setting metadata\n",
      "959 matching events found\n",
      "No baseline correction applied\n",
      "0 projection items activated\n",
      "Reading C:\\Users\\hanin\\Documents\\Kuliah\\Semester 7\\Tugas Akhir\\Preprocessed Data MI\\Epoch\\SubjectA-160408-epo.fif ...\n",
      "    Found the data of interest:\n",
      "        t =       0.00 ...     845.00 ms\n",
      "        0 CTF compensation matrices available\n",
      "Not setting metadata\n",
      "Not setting metadata\n",
      "867 matching events found\n",
      "No baseline correction applied\n",
      "0 projection items activated\n",
      "Reading C:\\Users\\hanin\\Documents\\Kuliah\\Semester 7\\Tugas Akhir\\Preprocessed Data MI\\Epoch\\SubjectB-151110-epo.fif ...\n",
      "    Found the data of interest:\n",
      "        t =       0.00 ...     850.00 ms\n",
      "        0 CTF compensation matrices available\n",
      "Not setting metadata\n",
      "Not setting metadata\n",
      "958 matching events found\n",
      "No baseline correction applied\n",
      "0 projection items activated\n",
      "Reading C:\\Users\\hanin\\Documents\\Kuliah\\Semester 7\\Tugas Akhir\\Preprocessed Data MI\\Epoch\\SubjectB-160309-epo.fif ...\n",
      "    Found the data of interest:\n",
      "        t =       0.00 ...     845.00 ms\n",
      "        0 CTF compensation matrices available\n",
      "Not setting metadata\n",
      "Not setting metadata\n",
      "935 matching events found\n",
      "No baseline correction applied\n",
      "0 projection items activated\n",
      "Reading C:\\Users\\hanin\\Documents\\Kuliah\\Semester 7\\Tugas Akhir\\Preprocessed Data MI\\Epoch\\SubjectB-160311-epo.fif ...\n",
      "    Found the data of interest:\n",
      "        t =       0.00 ...     845.00 ms\n",
      "        0 CTF compensation matrices available\n",
      "Not setting metadata\n",
      "Not setting metadata\n",
      "959 matching events found\n",
      "No baseline correction applied\n",
      "0 projection items activated\n",
      "Reading C:\\Users\\hanin\\Documents\\Kuliah\\Semester 7\\Tugas Akhir\\Preprocessed Data MI\\Epoch\\SubjectB-160316-epo.fif ...\n",
      "    Found the data of interest:\n",
      "        t =       0.00 ...     850.00 ms\n",
      "        0 CTF compensation matrices available\n",
      "Not setting metadata\n",
      "Not setting metadata\n",
      "959 matching events found\n",
      "No baseline correction applied\n",
      "0 projection items activated\n",
      "Reading C:\\Users\\hanin\\Documents\\Kuliah\\Semester 7\\Tugas Akhir\\Preprocessed Data MI\\Epoch\\SubjectC-151204-epo.fif ...\n",
      "    Found the data of interest:\n",
      "        t =       0.00 ...     850.00 ms\n",
      "        0 CTF compensation matrices available\n",
      "Not setting metadata\n",
      "Not setting metadata\n",
      "958 matching events found\n",
      "No baseline correction applied\n",
      "0 projection items activated\n",
      "Reading C:\\Users\\hanin\\Documents\\Kuliah\\Semester 7\\Tugas Akhir\\Preprocessed Data MI\\Epoch\\SubjectC-160429-epo.fif ...\n",
      "    Found the data of interest:\n",
      "        t =       0.00 ...     845.00 ms\n",
      "        0 CTF compensation matrices available\n",
      "Not setting metadata\n",
      "Not setting metadata\n",
      "941 matching events found\n",
      "No baseline correction applied\n",
      "0 projection items activated\n",
      "Reading C:\\Users\\hanin\\Documents\\Kuliah\\Semester 7\\Tugas Akhir\\Preprocessed Data MI\\Epoch\\SubjectE-160321-epo.fif ...\n",
      "    Found the data of interest:\n",
      "        t =       0.00 ...     845.00 ms\n",
      "        0 CTF compensation matrices available\n",
      "Not setting metadata\n",
      "Not setting metadata\n",
      "956 matching events found\n",
      "No baseline correction applied\n",
      "0 projection items activated\n",
      "Reading C:\\Users\\hanin\\Documents\\Kuliah\\Semester 7\\Tugas Akhir\\Preprocessed Data MI\\Epoch\\SubjectE-160415-epo.fif ...\n",
      "    Found the data of interest:\n",
      "        t =       0.00 ...     845.00 ms\n",
      "        0 CTF compensation matrices available\n",
      "Not setting metadata\n",
      "Not setting metadata\n",
      "946 matching events found\n",
      "No baseline correction applied\n",
      "0 projection items activated\n",
      "Reading C:\\Users\\hanin\\Documents\\Kuliah\\Semester 7\\Tugas Akhir\\Preprocessed Data MI\\Epoch\\SubjectE-160429-epo.fif ...\n",
      "    Found the data of interest:\n",
      "        t =       0.00 ...     845.00 ms\n",
      "        0 CTF compensation matrices available\n",
      "Not setting metadata\n",
      "Not setting metadata\n",
      "946 matching events found\n",
      "No baseline correction applied\n",
      "0 projection items activated\n",
      "Reading C:\\Users\\hanin\\Documents\\Kuliah\\Semester 7\\Tugas Akhir\\Preprocessed Data MI\\Epoch\\SubjectF-151027-epo.fif ...\n",
      "    Found the data of interest:\n",
      "        t =       0.00 ...     850.00 ms\n",
      "        0 CTF compensation matrices available\n",
      "Not setting metadata\n",
      "Not setting metadata\n",
      "957 matching events found\n",
      "No baseline correction applied\n",
      "0 projection items activated\n",
      "Reading C:\\Users\\hanin\\Documents\\Kuliah\\Semester 7\\Tugas Akhir\\Preprocessed Data MI\\Epoch\\SubjectF-160209-epo.fif ...\n",
      "    Found the data of interest:\n",
      "        t =       0.00 ...     850.00 ms\n",
      "        0 CTF compensation matrices available\n",
      "Not setting metadata\n",
      "Not setting metadata\n",
      "958 matching events found\n",
      "No baseline correction applied\n",
      "0 projection items activated\n",
      "Reading C:\\Users\\hanin\\Documents\\Kuliah\\Semester 7\\Tugas Akhir\\Preprocessed Data MI\\Epoch\\SubjectF-160210-epo.fif ...\n",
      "    Found the data of interest:\n",
      "        t =       0.00 ...     845.00 ms\n",
      "        0 CTF compensation matrices available\n",
      "Not setting metadata\n",
      "Not setting metadata\n",
      "959 matching events found\n",
      "No baseline correction applied\n",
      "0 projection items activated\n",
      "Reading C:\\Users\\hanin\\Documents\\Kuliah\\Semester 7\\Tugas Akhir\\Preprocessed Data MI\\Epoch\\SubjectG-160413-epo.fif ...\n",
      "    Found the data of interest:\n",
      "        t =       0.00 ...     845.00 ms\n",
      "        0 CTF compensation matrices available\n",
      "Not setting metadata\n",
      "Not setting metadata\n",
      "946 matching events found\n",
      "No baseline correction applied\n",
      "0 projection items activated\n",
      "Reading C:\\Users\\hanin\\Documents\\Kuliah\\Semester 7\\Tugas Akhir\\Preprocessed Data MI\\Epoch\\SubjectG-160428-epo.fif ...\n",
      "    Found the data of interest:\n",
      "        t =       0.00 ...     845.00 ms\n",
      "        0 CTF compensation matrices available\n",
      "Not setting metadata\n",
      "Not setting metadata\n",
      "955 matching events found\n",
      "No baseline correction applied\n",
      "0 projection items activated\n",
      "Reading C:\\Users\\hanin\\Documents\\Kuliah\\Semester 7\\Tugas Akhir\\Preprocessed Data MI\\Epoch\\SubjectH-160804-epo.fif ...\n",
      "    Found the data of interest:\n",
      "        t =       0.00 ...     845.00 ms\n",
      "        0 CTF compensation matrices available\n",
      "Not setting metadata\n",
      "Not setting metadata\n",
      "922 matching events found\n",
      "No baseline correction applied\n",
      "0 projection items activated\n",
      "Reading C:\\Users\\hanin\\Documents\\Kuliah\\Semester 7\\Tugas Akhir\\Preprocessed Data MI\\Epoch\\SubjectI-160719-epo.fif ...\n",
      "    Found the data of interest:\n",
      "        t =       0.00 ...     845.00 ms\n",
      "        0 CTF compensation matrices available\n",
      "Not setting metadata\n",
      "Not setting metadata\n",
      "959 matching events found\n",
      "No baseline correction applied\n",
      "0 projection items activated\n",
      "Reading C:\\Users\\hanin\\Documents\\Kuliah\\Semester 7\\Tugas Akhir\\Preprocessed Data MI\\Epoch\\SubjectI-160723-epo.fif ...\n",
      "    Found the data of interest:\n",
      "        t =       0.00 ...     845.00 ms\n",
      "        0 CTF compensation matrices available\n",
      "Not setting metadata\n",
      "Not setting metadata\n",
      "958 matching events found\n",
      "No baseline correction applied\n",
      "0 projection items activated\n"
     ]
    }
   ],
   "source": [
    "data_dir = 'Preprocessed Data MI'\n",
    "epoch_data_path = os.path.join(os.getcwd(), data_dir + '\\Epoch')\n",
    "dirs = os.listdir(os.path.join(os.getcwd(), 'Dataset Motor Imagery'))\n",
    "eeg_data = [mne.read_epochs(os.path.join(epoch_data_path, epoch_file)) for epoch_file in os.listdir(epoch_data_path)]"
   ]
  },
  {
   "cell_type": "code",
   "execution_count": 11,
   "metadata": {},
   "outputs": [],
   "source": [
    "epoch_data = []\n",
    "epoch_label = []\n",
    "subject_last_index = []\n",
    "# scaler = StandardScaler()\n",
    "for i in range(len(eeg_data)):\n",
    "    eeg_data[i] = eeg_data[i].crop(tmin = 0, tmax = 0.845, include_tmax = True)\n",
    "    for epoch in eeg_data[i].get_data():\n",
    "#         epoch = scaler.fit_transform(epoch)\n",
    "        epoch_data.append(np.reshape(epoch, newshape = (epoch.shape[0], epoch.shape[1], 1)))\n",
    "    for event in eeg_data[i].events:\n",
    "        epoch_label.append(event[2] - 1)\n",
    "    subject_last_index.append((dirs[i].split('-')[1], len(epoch_data) - 1))\n",
    "epoch_data = np.asarray(epoch_data, dtype = np.float32)\n",
    "epoch_label = np.asarray(epoch_label, dtype = np.int32)"
   ]
  },
  {
   "cell_type": "code",
   "execution_count": 4,
   "metadata": {},
   "outputs": [
    {
     "data": {
      "text/plain": [
       "{'SubjectA': 1825,\n",
       " 'SubjectB': 5636,\n",
       " 'SubjectC': 7535,\n",
       " 'SubjectE': 10383,\n",
       " 'SubjectF': 13257,\n",
       " 'SubjectG': 15158,\n",
       " 'SubjectH': 16080,\n",
       " 'SubjectI': 17997}"
      ]
     },
     "execution_count": 4,
     "metadata": {},
     "output_type": "execute_result"
    }
   ],
   "source": [
    "subject_index = {}\n",
    "for subject, last_index in subject_last_index:\n",
    "    if subject not in subject_index:\n",
    "        subject_index[subject] = last_index\n",
    "    if last_index > subject_index[subject]:\n",
    "        subject_index[subject] = last_index\n",
    "subject_index"
   ]
  },
  {
   "cell_type": "code",
   "execution_count": 5,
   "metadata": {},
   "outputs": [],
   "source": [
    "def retrieve_data(subject_name):\n",
    "    index_list = list(subject_index.values())\n",
    "    subj_idx = list(subject_index.keys()).index(subject_name)\n",
    "    if subj_idx - 1 < 0:\n",
    "        data_index = list(range(index_list[subj_idx]))\n",
    "    else:\n",
    "        data_index = list(range(index_list[subj_idx - 1], index_list[subj_idx]))\n",
    "    return epoch_data[data_index], epoch_label[data_index]"
   ]
  },
  {
   "cell_type": "code",
   "execution_count": 6,
   "metadata": {},
   "outputs": [],
   "source": [
    "def augment_data(data, new_data_len, data_gap):\n",
    "    new_data_indices = []\n",
    "    data_len = len(data)\n",
    "    data_start_index, data_end_index = 0, new_data_len\n",
    "    while data_end_index <= data_len:\n",
    "        new_data_indices.append(list(range(data_start_index, data_end_index)))\n",
    "        data_start_index += data_gap\n",
    "        data_end_index += data_gap\n",
    "    new_data = [data[data_indices] for data_indices in new_data_indices]\n",
    "    return new_data"
   ]
  },
  {
   "cell_type": "code",
   "execution_count": null,
   "metadata": {},
   "outputs": [],
   "source": [
    "def add_noise(data, std_dev, mean = 0):\n",
    "    noise = np.random.normal(mean, std_dev, size = data.shape)\n",
    "    new_data = data + noise\n",
    "    return new_data"
   ]
  },
  {
   "cell_type": "code",
   "execution_count": 7,
   "metadata": {},
   "outputs": [],
   "source": [
    "subject_name = 'SubjectG'\n",
    "data, labels = retrieve_data(subject_name)\n",
    "labels = tf.keras.utils.to_categorical(labels, num_classes = len(np.unique(labels)))"
   ]
  },
  {
   "cell_type": "code",
   "execution_count": 8,
   "metadata": {},
   "outputs": [],
   "source": [
    "data_length, data_gap = 150, 10\n",
    "copy_data = data.copy()\n",
    "epoch_data, epoch_label = [], []\n",
    "for index, data in enumerate(copy_data):\n",
    "    augmented_data = []\n",
    "    for channel_index in range(data.shape[0]):\n",
    "        augmented_data.append(augment_data(data[channel_index, :, 0], data_length, data_gap))\n",
    "    augmented_data = np.array(augmented_data)\n",
    "    for data_index in range(augmented_data.shape[1]):\n",
    "        new_data = augmented_data[:, data_index]\n",
    "        new_label = labels[index]\n",
    "        epoch_data.append(new_data)\n",
    "        epoch_label.append(new_label)\n",
    "epoch_data = np.array(epoch_data)\n",
    "epoch_label = np.array(epoch_label)"
   ]
  },
  {
   "cell_type": "code",
   "execution_count": 9,
   "metadata": {},
   "outputs": [
    {
     "name": "stdout",
     "output_type": "stream",
     "text": [
      "Data shape after sliding window: (5703, 21, 150)\n"
     ]
    }
   ],
   "source": [
    "print('Data shape after sliding window: {}'.format(epoch_data.shape))"
   ]
  },
  {
   "cell_type": "code",
   "execution_count": null,
   "metadata": {},
   "outputs": [],
   "source": [
    "def create_cnn(input_shape, optimizer = None, conv_init = None, dense_init = None, act_fx = 'relu'):\n",
    "    if conv_init is None:\n",
    "        conv1_init = tf.keras.initializers.GlorotUniform(42)\n",
    "        conv2_init = tf.keras.initializers.GlorotUniform(42)\n",
    "    else:\n",
    "        conv1_init = conv_init\n",
    "        conv1_init.seed = 42\n",
    "        conv2_init = conv_init\n",
    "        conv2_init.seed = 42\n",
    "    if dense_init is None:\n",
    "        dense1_init = tf.keras.initializers.GlorotUniform(24)\n",
    "        dense2_init = tf.keras.initializers.GlorotUniform(24)\n",
    "    else:\n",
    "        dense1_init = dense_init\n",
    "        dense1_init.seed = 24\n",
    "        dense2_init = dense_init\n",
    "        dense2_init.seed = 24\n",
    "    if act_fx == 'relu' or act_fx == 'selu' or act_fx == 'elu':\n",
    "        model = tf.keras.Sequential([\n",
    "            tf.keras.layers.Conv2D(filters = 64, kernel_size = (1, 5), padding = 'same', input_shape = input_shape,\n",
    "                   activation = act_fx, kernel_initializer = conv1_init),\n",
    "            tf.keras.layers.Conv2D(filters = 64, kernel_size = (input_shape[0], 1), activation = act_fx,\n",
    "                   kernel_initializer = conv2_init),\n",
    "            tf.keras.layers.MaxPooling2D(padding = 'same'),\n",
    "            tf.keras.layers.Flatten(),\n",
    "            tf.keras.layers.Dense(units = 128, activation = act_fx, kernel_initializer = dense1_init),\n",
    "            tf.keras.layers.Dense(units = 5, activation = 'softmax', kernel_initializer = dense2_init)\n",
    "        ])\n",
    "    else:\n",
    "        if act_fx == 'prelu':\n",
    "            model = tf.keras.Sequential([\n",
    "                tf.keras.layers.Conv2D(filters = 64, kernel_size = (1, 5), padding = 'same', input_shape = input_shape,\n",
    "                                       kernel_initializer = conv1_init),\n",
    "                tf.keras.layers.PReLU(),\n",
    "                tf.keras.layers.Conv2D(filters = 64, kernel_size = (input_shape[0], 1), kernel_initializer = conv2_init),\n",
    "                tf.keras.layers.PReLU(),\n",
    "                tf.keras.layers.MaxPooling2D(padding = 'same'),\n",
    "                tf.keras.layers.Flatten(),\n",
    "                tf.keras.layers.Dense(units = 128, kernel_initializer = dense1_init),\n",
    "                tf.keras.layers.PReLU(),\n",
    "                tf.keras.layers.Dense(units = 5, activation = 'softmax', kernel_initializer = dense2_init)\n",
    "            ])\n",
    "        else:\n",
    "            model = tf.keras.Sequential([\n",
    "                tf.keras.layers.Conv2D(filters = 64, kernel_size = (1, 5), padding = 'same', input_shape = input_shape,\n",
    "                                       kernel_initializer = conv1_init),\n",
    "                tf.keras.layers.LeakyReLU(),\n",
    "                tf.keras.layers.Conv2D(filters = 64, kernel_size = (input_shape[0], 1), kernel_initializer = conv2_init),\n",
    "                tf.keras.layers.LeakyReLU(),\n",
    "                tf.keras.layers.MaxPooling2D(padding = 'same'),\n",
    "                tf.keras.layers.Flatten(),\n",
    "                tf.keras.layers.Dense(units = 128, kernel_initializer = dense1_init),\n",
    "                tf.keras.layers.LeakyReLU(),\n",
    "                tf.keras.layers.Dense(units = 5, activation = 'softmax', kernel_initializer = dense2_init)\n",
    "            ])\n",
    "    if optimizer is None:\n",
    "        model.compile(loss = 'categorical_crossentropy', optimizer = tf.keras.optimizers.Adam(5 * 1e-5),\n",
    "                      metrics = ['accuracy'])\n",
    "    else:\n",
    "        model.compile(loss = 'categorical_crossentropy', optimizer = optimizer, metrics = ['accuracy'])\n",
    "    return model"
   ]
  },
  {
   "cell_type": "code",
   "execution_count": null,
   "metadata": {},
   "outputs": [],
   "source": [
    "test_ratio = 0.1\n",
    "shuffled_index = list(range(len(epoch_data)))\n",
    "np.random.shuffle(shuffled_index)\n",
    "train_size = round((1 - test_ratio) * len(epoch_data))\n",
    "train_index, test_index = shuffled_index[:train_size], shuffled_index[train_size:]\n",
    "epoch_data_train, epoch_data_test = epoch_data[train_index], epoch_data[test_index]\n",
    "epoch_label_train, epoch_label_test = epoch_label[train_index], epoch_label[test_index]"
   ]
  },
  {
   "cell_type": "code",
   "execution_count": null,
   "metadata": {},
   "outputs": [],
   "source": [
    "print(epoch_data_train.shape)\n",
    "print(epoch_data_test.shape)\n",
    "print(epoch_label_train.shape)\n",
    "print(epoch_label_test.shape)"
   ]
  },
  {
   "cell_type": "code",
   "execution_count": null,
   "metadata": {},
   "outputs": [],
   "source": [
    "epoch_data_train, epoch_data_test, epoch_label_train, epoch_label_test = train_test_split(epoch_data, epoch_label,\n",
    "                                                                                          test_size = 0.1,\n",
    "                                                                                          random_state = 42,\n",
    "                                                                                          stratify = epoch_label)\n",
    "print('Train data size: {}'.format(epoch_data_train.shape))\n",
    "print('Test data size: {}'.format(epoch_data_test.shape))"
   ]
  },
  {
   "cell_type": "code",
   "execution_count": null,
   "metadata": {},
   "outputs": [],
   "source": [
    "std_devs = [0.3, 0.4]\n",
    "copy_data = epoch_data_train.copy()\n",
    "epoch_data_train, epoch_label_train = list(epoch_data_train), list(epoch_label_train)\n",
    "for index, data in enumerate(copy_data):\n",
    "    for dev in std_devs:\n",
    "        epoch_data_train.append(add_noise(data, std_dev = dev))\n",
    "        epoch_label_train.append(epoch_label_train[index])\n",
    "epoch_data_train, epoch_label_train = np.array(epoch_data_train), np.array(epoch_label_train)\n",
    "print('Train data after noise addition: {}'.format(epoch_data_train.shape))"
   ]
  },
  {
   "cell_type": "code",
   "execution_count": 10,
   "metadata": {},
   "outputs": [
    {
     "data": {
      "image/png": "[encoded data removed]",
      "text/plain": [
       "<Figure size 432x288 with 1 Axes>"
      ]
     },
     "metadata": {
      "needs_background": "light"
     },
     "output_type": "display_data"
    }
   ],
   "source": [
    "plt.plot(np.linspace(0, 0.85, num = len(epoch_data[1][4, :])), epoch_data[0][5, :])\n",
    "plt.show()"
   ]
  },
  {
   "cell_type": "code",
   "execution_count": 21,
   "metadata": {},
   "outputs": [
    {
     "data": {
      "image/png": "[encoded data removed]",
      "text/plain": [
       "<Figure size 432x288 with 3 Axes>"
      ]
     },
     "metadata": {
      "needs_background": "light"
     },
     "output_type": "display_data"
    }
   ],
   "source": [
    "test_data = augment_data(epoch_data[0][4, :], 150, 10)\n",
    "fig, (ax1, ax2, ax3) = plt.subplots(3, 1, sharex = 'all', sharey = 'all', figsize = (6, 4))\n",
    "ax1.plot(np.linspace(0, 0.75, num = len(test_data[0])), test_data[0], color = 'red')\n",
    "ax1.set_title('Hasil Sliding Window (Subjek G, C3)')\n",
    "ax2.set_ylabel('amplitudo (uV)')\n",
    "ax1.legend(['1'])\n",
    "ax1.grid(True)\n",
    "ax2.plot(np.linspace(0, 0.75, num = len(test_data[1])), test_data[1], color = 'orange')\n",
    "ax2.set_ylabel('amplitudo (uV)')\n",
    "ax2.legend(['2'])\n",
    "ax2.grid(True)\n",
    "ax3.plot(np.linspace(0, 0.75, num = len(test_data[2])), test_data[2], color = 'blue')\n",
    "ax3.set_xlabel('waktu (s)')\n",
    "ax2.set_ylabel('amplitudo (uV)')\n",
    "ax3.legend(['3'])\n",
    "ax3.grid(True)"
   ]
  },
  {
   "cell_type": "code",
   "execution_count": null,
   "metadata": {},
   "outputs": [],
   "source": [
    "kernel_inits = [tf.keras.initializers.GlorotUniform, tf.keras.initializers.GlorotNormal]\n",
    "act_functions = ['relu', 'elu', 'selu', 'prelu', 'leaky_relu']"
   ]
  },
  {
   "cell_type": "code",
   "execution_count": null,
   "metadata": {
    "scrolled": true
   },
   "outputs": [],
   "source": [
    "losses = []\n",
    "parameter_list = []\n",
    "acc_scores, prec_scores, rec_scores = [], [], []\n",
    "epoch_data_train = tf.expand_dims(epoch_data_train, axis = -1)\n",
    "epoch_data_test = tf.expand_dims(epoch_data_test, axis = -1)\n",
    "input_shape = (epoch_data_train.shape[1], epoch_data_train.shape[2], epoch_data_train.shape[3])\n",
    "early_stop = tf.keras.callbacks.EarlyStopping(monitor = 'val_accuracy', patience = 3, restore_best_weights = True)\n",
    "for kernel_init in kernel_inits:\n",
    "    for function in act_functions:\n",
    "        model = create_cnn(input_shape = input_shape, conv_init = kernel_init, dense_init = kernel_init,\n",
    "                           act_fx = function)\n",
    "        history = model.fit(epoch_data_train, epoch_label_train, batch_size = 16, epochs = 15, \n",
    "                            validation_data = (epoch_data_test, epoch_label_test), callbacks = [early_stop])\n",
    "        loss, acc = model.evaluate(epoch_data_test, epoch_label_test)\n",
    "        predictions = model.predict(epoch_data_test)\n",
    "        predictions = np.array([np.argmax(prediction) for prediction in predictions])\n",
    "        real_labels = np.array([np.argmax(label) for label in epoch_label_test])\n",
    "        losses.append(loss)\n",
    "        acc_scores.append(acc)\n",
    "        prec_scores.append(precision_score(real_labels, predictions, average = 'weighted'))\n",
    "        rec_scores.append(recall_score(real_labels, predictions, average = 'weighted'))\n",
    "        parameter_list.append((kernel_inits.index(kernel_init), function))"
   ]
  },
  {
   "cell_type": "code",
   "execution_count": null,
   "metadata": {},
   "outputs": [],
   "source": [
    "# predictions = model.predict(epoch_data_test)\n",
    "# predictions = np.array([np.argmax(prediction) for prediction in predictions])\n",
    "# real_label = np.array([np.argmax(label) for label in epoch_label_test])\n",
    "# print('Accuracy: {}'.format(accuracy_score(real_label, predictions)))\n",
    "# print('Precision: {}'.format(precision_score(real_label, predictions, average = 'weighted')))\n",
    "# print('Recall: {}'.format(recall_score(real_label, predictions, average = 'weighted')))"
   ]
  },
  {
   "cell_type": "code",
   "execution_count": null,
   "metadata": {},
   "outputs": [],
   "source": [
    "# predictions = model.predict(epoch_data_test)\n",
    "# predictions = np.array([np.argmax(prediction) for prediction in predictions])\n",
    "# real_label = np.array([np.argmax(label) for label in epoch_label_test])\n",
    "# print('Accuracy: {}'.format(accuracy_score(real_label, predictions)))\n",
    "# print('Precision: {}'.format(precision_score(real_label, predictions, average = 'weighted')))\n",
    "# print('Recall: {}'.format(recall_score(real_label, predictions, average = 'weighted')))"
   ]
  },
  {
   "cell_type": "code",
   "execution_count": null,
   "metadata": {},
   "outputs": [],
   "source": [
    "# predictions = model.predict(epoch_data_test)\n",
    "# predictions = np.array([np.argmax(prediction) for prediction in predictions])\n",
    "# real_label = np.array([np.argmax(label) for label in epoch_label_test])\n",
    "# print('Accuracy: {}'.format(accuracy_score(real_label, predictions)))\n",
    "# print('Precision: {}'.format(precision_score(real_label, predictions, average = 'weighted')))\n",
    "# print('Recall: {}'.format(recall_score(real_label, predictions, average = 'weighted')))"
   ]
  },
  {
   "cell_type": "code",
   "execution_count": null,
   "metadata": {},
   "outputs": [],
   "source": [
    "df = pd.DataFrame({'Parameter': parameter_list, 'Accuracy': acc_scores, 'Precision': prec_scores,\n",
    "                   'Recall': rec_scores})\n",
    "df"
   ]
  },
  {
   "cell_type": "code",
   "execution_count": null,
   "metadata": {},
   "outputs": [],
   "source": [
    "df.to_csv('{}_HT.csv'.format(subject_name))"
   ]
  },
  {
   "cell_type": "code",
   "execution_count": null,
   "metadata": {},
   "outputs": [],
   "source": [
    "# plt.plot(history.history['accuracy'])\n",
    "# plt.plot(history.history['val_accuracy'])\n",
    "# plt.title('Model Accuracy')\n",
    "# plt.ylabel('Accuracy')\n",
    "# plt.xlabel('Epoch')\n",
    "# plt.legend(['Train', 'Validation'], loc = 'upper left')\n",
    "# plt.savefig('cnn_accuracy.png', facecolor = 'w', edgecolor = 'w')\n",
    "# plt.show()\n",
    "\n",
    "# plt.plot(history.history['loss'])\n",
    "# plt.plot(history.history['val_loss'])\n",
    "# plt.title('Model Loss')\n",
    "# plt.ylabel('Loss')\n",
    "# plt.xlabel('Epoch')\n",
    "# plt.legend(['Train', 'Validation'], loc = 'upper left')\n",
    "# plt.savefig('cnn_loss.png', facecolor = 'w', edgecolor = 'w')\n",
    "# plt.show()"
   ]
  }
 ],
 "metadata": {
  "kernelspec": {
   "display_name": "Python 3",
   "language": "python",
   "name": "python3"
  },
  "language_info": {
   "codemirror_mode": {
    "name": "ipython",
    "version": 3
   },
   "file_extension": ".py",
   "mimetype": "text/x-python",
   "name": "python",
   "nbconvert_exporter": "python",
   "pygments_lexer": "ipython3",
   "version": "3.8.5"
  }
 },
 "nbformat": 4,
 "nbformat_minor": 4
}
